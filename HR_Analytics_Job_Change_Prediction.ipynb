{
 "cells": [
  {
   "cell_type": "markdown",
   "metadata": {
    "id": "QvCuHme7vRvz"
   },
   "source": [
    "# 1) Importing Required Libraries"
   ]
  },
  {
   "cell_type": "code",
   "execution_count": null,
   "metadata": {
    "id": "c87Ig62Suw3Z"
   },
   "outputs": [
    {
     "ename": "",
     "evalue": "",
     "output_type": "error",
     "traceback": [
      "\u001b[1;31mFailed to start the Kernel. \n",
      "\u001b[1;31mUnable to start Kernel 'Python 3.10.7' due to a timeout waiting for the ports to get used. \n",
      "\u001b[1;31mView Jupyter <a href='command:jupyter.viewOutput'>log</a> for further details."
     ]
    }
   ],
   "source": [
    "import pandas as pd\n",
    "import numpy as np\n",
    "import matplotlib.pyplot as plt\n",
    "import io\n",
    "import pickle\n",
    "import seaborn as sn\n",
    "from sklearn.utils import resample\n",
    "from imblearn.over_sampling import SMOTE\n",
    "from imblearn.combine import SMOTEENN\n",
    "from sklearn.preprocessing import MinMaxScaler\n",
    "from sklearn.preprocessing import LabelEncoder\n",
    "from sklearn.cluster import SpectralClustering\n",
    "from sklearn.model_selection import train_test_split\n",
    "from sklearn import linear_model\n",
    "from sklearn.naive_bayes import GaussianNB\n",
    "from sklearn.naive_bayes import MultinomialNB\n",
    "from sklearn.svm import SVC\n",
    "from sklearn import tree\n",
    "from sklearn.ensemble import RandomForestClassifier\n",
    "from xgboost import XGBClassifier\n",
    "from sklearn.model_selection import RandomizedSearchCV\n",
    "from sklearn.metrics import confusion_matrix\n",
    "from sklearn.metrics import classification_report"
   ]
  },
  {
   "cell_type": "markdown",
   "metadata": {},
   "source": [
    "## CONTEXT AND CONTENT\n",
    "A company that is into big data and also organizes data science training wants to employ data scientist out of the people that took part in the data science training. They wish to be able to predict based on information provided by people applying for their training if they will work for the company or take up employment elsewere post training. This is necessary in order for the company to reduce the cost and time as well as the quality of training or planning the courses and categorization of candidates.\n",
    "Model can also be used by HR to predict candidates decision after training. "
   ]
  },
  {
   "cell_type": "markdown",
   "metadata": {
    "id": "xx7lspbDzCGF"
   },
   "source": [
    "# 2) Importing Cleaned Data\n"
   ]
  },
  {
   "cell_type": "code",
   "execution_count": 2,
   "metadata": {
    "colab": {
     "base_uri": "https://localhost:8080/",
     "height": 263
    },
    "id": "kDfpe3BgzBaD",
    "outputId": "f4a35347-3ac7-41fb-aa41-25a1db69e153"
   },
   "outputs": [
    {
     "data": {
      "text/html": [
       "<div>\n",
       "<style scoped>\n",
       "    .dataframe tbody tr th:only-of-type {\n",
       "        vertical-align: middle;\n",
       "    }\n",
       "\n",
       "    .dataframe tbody tr th {\n",
       "        vertical-align: top;\n",
       "    }\n",
       "\n",
       "    .dataframe thead th {\n",
       "        text-align: right;\n",
       "    }\n",
       "</style>\n",
       "<table border=\"1\" class=\"dataframe\">\n",
       "  <thead>\n",
       "    <tr style=\"text-align: right;\">\n",
       "      <th></th>\n",
       "      <th>Unnamed: 0</th>\n",
       "      <th>city</th>\n",
       "      <th>gender</th>\n",
       "      <th>relevent_experience</th>\n",
       "      <th>enrolled_university</th>\n",
       "      <th>education_level</th>\n",
       "      <th>major_discipline</th>\n",
       "      <th>experience</th>\n",
       "      <th>company_size</th>\n",
       "      <th>company_type</th>\n",
       "      <th>last_new_job</th>\n",
       "      <th>training_hours</th>\n",
       "      <th>target</th>\n",
       "    </tr>\n",
       "  </thead>\n",
       "  <tbody>\n",
       "    <tr>\n",
       "      <th>0</th>\n",
       "      <td>0</td>\n",
       "      <td>city_103</td>\n",
       "      <td>Male</td>\n",
       "      <td>Has relevent experience</td>\n",
       "      <td>no_enrollment</td>\n",
       "      <td>Graduate</td>\n",
       "      <td>STEM</td>\n",
       "      <td>21</td>\n",
       "      <td>2</td>\n",
       "      <td>Pvt Ltd</td>\n",
       "      <td>1</td>\n",
       "      <td>36</td>\n",
       "      <td>1.0</td>\n",
       "    </tr>\n",
       "    <tr>\n",
       "      <th>1</th>\n",
       "      <td>1</td>\n",
       "      <td>city_40</td>\n",
       "      <td>Male</td>\n",
       "      <td>No relevent experience</td>\n",
       "      <td>no_enrollment</td>\n",
       "      <td>Graduate</td>\n",
       "      <td>STEM</td>\n",
       "      <td>15</td>\n",
       "      <td>2</td>\n",
       "      <td>Pvt Ltd</td>\n",
       "      <td>5</td>\n",
       "      <td>47</td>\n",
       "      <td>0.0</td>\n",
       "    </tr>\n",
       "    <tr>\n",
       "      <th>2</th>\n",
       "      <td>2</td>\n",
       "      <td>city_21</td>\n",
       "      <td>Male</td>\n",
       "      <td>No relevent experience</td>\n",
       "      <td>Full time course</td>\n",
       "      <td>Graduate</td>\n",
       "      <td>STEM</td>\n",
       "      <td>5</td>\n",
       "      <td>2</td>\n",
       "      <td>Pvt Ltd</td>\n",
       "      <td>0</td>\n",
       "      <td>83</td>\n",
       "      <td>0.0</td>\n",
       "    </tr>\n",
       "    <tr>\n",
       "      <th>3</th>\n",
       "      <td>3</td>\n",
       "      <td>city_115</td>\n",
       "      <td>Male</td>\n",
       "      <td>No relevent experience</td>\n",
       "      <td>no_enrollment</td>\n",
       "      <td>Graduate</td>\n",
       "      <td>Business Degree</td>\n",
       "      <td>0</td>\n",
       "      <td>2</td>\n",
       "      <td>Pvt Ltd</td>\n",
       "      <td>0</td>\n",
       "      <td>52</td>\n",
       "      <td>1.0</td>\n",
       "    </tr>\n",
       "    <tr>\n",
       "      <th>4</th>\n",
       "      <td>4</td>\n",
       "      <td>city_162</td>\n",
       "      <td>Male</td>\n",
       "      <td>Has relevent experience</td>\n",
       "      <td>no_enrollment</td>\n",
       "      <td>Masters</td>\n",
       "      <td>STEM</td>\n",
       "      <td>21</td>\n",
       "      <td>2</td>\n",
       "      <td>Funded Startup</td>\n",
       "      <td>4</td>\n",
       "      <td>8</td>\n",
       "      <td>0.0</td>\n",
       "    </tr>\n",
       "  </tbody>\n",
       "</table>\n",
       "</div>"
      ],
      "text/plain": [
       "   Unnamed: 0      city gender      relevent_experience enrolled_university  \\\n",
       "0           0  city_103   Male  Has relevent experience       no_enrollment   \n",
       "1           1   city_40   Male   No relevent experience       no_enrollment   \n",
       "2           2   city_21   Male   No relevent experience    Full time course   \n",
       "3           3  city_115   Male   No relevent experience       no_enrollment   \n",
       "4           4  city_162   Male  Has relevent experience       no_enrollment   \n",
       "\n",
       "  education_level major_discipline  experience  company_size    company_type  \\\n",
       "0        Graduate             STEM          21             2         Pvt Ltd   \n",
       "1        Graduate             STEM          15             2         Pvt Ltd   \n",
       "2        Graduate             STEM           5             2         Pvt Ltd   \n",
       "3        Graduate  Business Degree           0             2         Pvt Ltd   \n",
       "4         Masters             STEM          21             2  Funded Startup   \n",
       "\n",
       "   last_new_job  training_hours  target  \n",
       "0             1              36     1.0  \n",
       "1             5              47     0.0  \n",
       "2             0              83     0.0  \n",
       "3             0              52     1.0  \n",
       "4             4               8     0.0  "
      ]
     },
     "execution_count": 2,
     "metadata": {},
     "output_type": "execute_result"
    }
   ],
   "source": [
    "df = pd.read_csv('clean_data.csv')\n",
    "df.head()"
   ]
  },
  {
   "cell_type": "markdown",
   "metadata": {},
   "source": [
    "### FEATURES DESCRIPTION\n",
    "- enrollee_id : Unique ID for candidate\n",
    "\n",
    "- city: City code\n",
    "\n",
    "- city_ development _index : Developement index of the city (scaled)\n",
    "\n",
    "- gender: Gender of candidate\n",
    "\n",
    "- relevent_experience: Relevant experience of candidate\n",
    "\n",
    "- enrolled_university: Type of University course enrolled if any\n",
    "\n",
    "- education_level: Education level of candidate\n",
    "\n",
    "- major_discipline :Education major discipline of candidate\n",
    "\n",
    "- experience: Candidate total experience in years\n",
    "\n",
    "- company_size: No of employees in current employer's company\n",
    "\n",
    "- company_type : Type of current employer\n",
    "\n",
    "- last_new_job: Difference in years between previous job and current job\n",
    "\n",
    "- training_hours: training hours completed\n",
    "\n",
    "- target: 0 – Not looking for job change, 1 – Looking for a job change"
   ]
  },
  {
   "cell_type": "markdown",
   "metadata": {
    "id": "qvFTmmpyZKjN"
   },
   "source": [
    "# 3) Data Visualization"
   ]
  },
  {
   "cell_type": "markdown",
   "metadata": {
    "id": "7Gy12cHHZM_x"
   },
   "source": [
    "## 3.1) Plot of Gender vs. Target"
   ]
  },
  {
   "cell_type": "code",
   "execution_count": 3,
   "metadata": {
    "colab": {
     "base_uri": "https://localhost:8080/",
     "height": 296
    },
    "id": "K5OgsRfWZizy",
    "outputId": "81da145c-d221-434b-db40-ab0c0669b53b"
   },
   "outputs": [
    {
     "data": {
      "text/plain": [
       "<AxesSubplot:xlabel='gender', ylabel='count'>"
      ]
     },
     "execution_count": 3,
     "metadata": {},
     "output_type": "execute_result"
    },
    {
     "data": {
      "image/png": "[encoded data removed]",
      "text/plain": [
       "<Figure size 432x288 with 1 Axes>"
      ]
     },
     "metadata": {
      "needs_background": "light"
     },
     "output_type": "display_data"
    }
   ],
   "source": [
    "sn.countplot(data=df,x='gender',hue='target')"
   ]
  },
  {
   "cell_type": "markdown",
   "metadata": {
    "id": "BWIbZnyhZ45u"
   },
   "source": [
    "## 3.2) Plot of Relevant Experience vs. Target"
   ]
  },
  {
   "cell_type": "code",
   "execution_count": 4,
   "metadata": {
    "colab": {
     "base_uri": "https://localhost:8080/",
     "height": 297
    },
    "id": "rHiDu9vHZ_QT",
    "outputId": "75acf08c-5d50-47b6-87c8-506e8be8e49c"
   },
   "outputs": [
    {
     "data": {
      "text/plain": [
       "<AxesSubplot:xlabel='relevent_experience', ylabel='count'>"
      ]
     },
     "execution_count": 4,
     "metadata": {},
     "output_type": "execute_result"
    },
    {
     "data": {
      "image/png": "[encoded data removed]",
      "text/plain": [
       "<Figure size 432x288 with 1 Axes>"
      ]
     },
     "metadata": {
      "needs_background": "light"
     },
     "output_type": "display_data"
    }
   ],
   "source": [
    "sn.countplot(data=df,x='relevent_experience',hue='target')"
   ]
  },
  {
   "cell_type": "markdown",
   "metadata": {
    "id": "ClN0KZ2VaEtC"
   },
   "source": [
    "## 3.3) Plot of Enrolled University vs. Target"
   ]
  },
  {
   "cell_type": "code",
   "execution_count": 5,
   "metadata": {
    "colab": {
     "base_uri": "https://localhost:8080/",
     "height": 298
    },
    "id": "Ibvphv_NaKM-",
    "outputId": "4d4be2bb-6402-49da-dfed-6110deaa350a"
   },
   "outputs": [
    {
     "data": {
      "text/plain": [
       "<AxesSubplot:xlabel='enrolled_university', ylabel='count'>"
      ]
     },
     "execution_count": 5,
     "metadata": {},
     "output_type": "execute_result"
    },
    {
     "data": {
      "image/png": "[encoded data removed]",
      "text/plain": [
       "<Figure size 432x288 with 1 Axes>"
      ]
     },
     "metadata": {
      "needs_background": "light"
     },
     "output_type": "display_data"
    }
   ],
   "source": [
    "sn.countplot(data=df,x='enrolled_university',hue='target')"
   ]
  },
  {
   "cell_type": "markdown",
   "metadata": {
    "id": "KhzplN-kaSp6"
   },
   "source": [
    "## 3.4) Plot of Education Level vs. Target"
   ]
  },
  {
   "cell_type": "code",
   "execution_count": 6,
   "metadata": {
    "colab": {
     "base_uri": "https://localhost:8080/",
     "height": 297
    },
    "id": "cBydw-x8aZrS",
    "outputId": "0ac3ff3f-917d-4895-a780-2b4970d598d1"
   },
   "outputs": [
    {
     "data": {
      "text/plain": [
       "<AxesSubplot:xlabel='education_level', ylabel='count'>"
      ]
     },
     "execution_count": 6,
     "metadata": {},
     "output_type": "execute_result"
    },
    {
     "data": {
      "image/png": "[encoded data removed]",
      "text/plain": [
       "<Figure size 432x288 with 1 Axes>"
      ]
     },
     "metadata": {
      "needs_background": "light"
     },
     "output_type": "display_data"
    }
   ],
   "source": [
    "sn.countplot(data=df,x='education_level',hue='target')"
   ]
  },
  {
   "cell_type": "markdown",
   "metadata": {
    "id": "VCrjS7PuahR8"
   },
   "source": [
    "## 3.5) Plot of Discipline vs. Target"
   ]
  },
  {
   "cell_type": "code",
   "execution_count": 7,
   "metadata": {
    "colab": {
     "base_uri": "https://localhost:8080/",
     "height": 297
    },
    "id": "IDZSdZoJakx2",
    "outputId": "62982784-f95c-40fa-feab-2bd666b913de"
   },
   "outputs": [
    {
     "data": {
      "text/plain": [
       "<AxesSubplot:xlabel='major_discipline', ylabel='count'>"
      ]
     },
     "execution_count": 7,
     "metadata": {},
     "output_type": "execute_result"
    },
    {
     "data": {
      "image/png": "[encoded data removed]",
      "text/plain": [
       "<Figure size 432x288 with 1 Axes>"
      ]
     },
     "metadata": {
      "needs_background": "light"
     },
     "output_type": "display_data"
    }
   ],
   "source": [
    "sn.countplot(data=df,x='major_discipline',hue='target')"
   ]
  },
  {
   "cell_type": "markdown",
   "metadata": {
    "id": "j9896OcaayZi"
   },
   "source": [
    "## 3.6) Plot of Experience vs. Target"
   ]
  },
  {
   "cell_type": "code",
   "execution_count": 8,
   "metadata": {
    "colab": {
     "base_uri": "https://localhost:8080/"
    },
    "id": "E9rBUO8ka3jj",
    "outputId": "15aa724b-88c1-442e-a77a-be8eb7dd6c21"
   },
   "outputs": [
    {
     "data": {
      "text/plain": [
       "<AxesSubplot:xlabel='target', ylabel='experience'>"
      ]
     },
     "execution_count": 8,
     "metadata": {},
     "output_type": "execute_result"
    },
    {
     "data": {
      "image/png": "[encoded data removed]",
      "text/plain": [
       "<Figure size 432x288 with 1 Axes>"
      ]
     },
     "metadata": {
      "needs_background": "light"
     },
     "output_type": "display_data"
    }
   ],
   "source": [
    "sn.boxplot(data=df, x='target', y='experience')"
   ]
  },
  {
   "cell_type": "markdown",
   "metadata": {
    "id": "yNZmK62AbJAD"
   },
   "source": [
    "## 3.7) Plot of Company Size vs. Target"
   ]
  },
  {
   "cell_type": "code",
   "execution_count": 9,
   "metadata": {
    "colab": {
     "base_uri": "https://localhost:8080/"
    },
    "id": "WpXrxB7obL_x",
    "outputId": "784f79fc-0d92-4828-b6bb-a952c70923bf"
   },
   "outputs": [
    {
     "data": {
      "text/plain": [
       "<AxesSubplot:xlabel='company_size', ylabel='count'>"
      ]
     },
     "execution_count": 9,
     "metadata": {},
     "output_type": "execute_result"
    },
    {
     "data": {
      "image/png": "[encoded data removed]",
      "text/plain": [
       "<Figure size 720x504 with 1 Axes>"
      ]
     },
     "metadata": {
      "needs_background": "light"
     },
     "output_type": "display_data"
    }
   ],
   "source": [
    "plt.figure(figsize=(10,7))\n",
    "sn.countplot(data=df,x='company_size',hue='target')"
   ]
  },
  {
   "cell_type": "markdown",
   "metadata": {
    "id": "WJSEpfsUbedi"
   },
   "source": [
    "## 3.8) Plot of Company Type vs Target"
   ]
  },
  {
   "cell_type": "code",
   "execution_count": 10,
   "metadata": {
    "colab": {
     "base_uri": "https://localhost:8080/"
    },
    "id": "37llCKW8boPv",
    "outputId": "80d33f44-38e4-4348-abcd-b7032a0e8e9b"
   },
   "outputs": [
    {
     "data": {
      "text/plain": [
       "<AxesSubplot:xlabel='company_type', ylabel='count'>"
      ]
     },
     "execution_count": 10,
     "metadata": {},
     "output_type": "execute_result"
    },
    {
     "data": {
      "image/png": "[encoded data removed]",
      "text/plain": [
       "<Figure size 720x504 with 1 Axes>"
      ]
     },
     "metadata": {
      "needs_background": "light"
     },
     "output_type": "display_data"
    }
   ],
   "source": [
    "plt.figure(figsize=(10,7))\n",
    "sn.countplot(data=df,x='company_type',hue='target')"
   ]
  },
  {
   "cell_type": "markdown",
   "metadata": {
    "id": "FcrUbkd5b5YM"
   },
   "source": [
    "## 3.9) Plot of Last New Job vs. Target"
   ]
  },
  {
   "cell_type": "code",
   "execution_count": 11,
   "metadata": {
    "colab": {
     "base_uri": "https://localhost:8080/"
    },
    "id": "QYIfG_k3b5oh",
    "outputId": "5e2e2f75-6b4e-44b0-e251-c51b1ef0095c"
   },
   "outputs": [
    {
     "data": {
      "text/plain": [
       "<AxesSubplot:xlabel='last_new_job', ylabel='count'>"
      ]
     },
     "execution_count": 11,
     "metadata": {},
     "output_type": "execute_result"
    },
    {
     "data": {
      "image/png": "[encoded data removed]",
      "text/plain": [
       "<Figure size 432x288 with 1 Axes>"
      ]
     },
     "metadata": {
      "needs_background": "light"
     },
     "output_type": "display_data"
    }
   ],
   "source": [
    "sn.countplot(data=df,x='last_new_job',hue='target')"
   ]
  },
  {
   "cell_type": "markdown",
   "metadata": {
    "id": "YtNdF1isb8Kk"
   },
   "source": [
    "## 3.10) Plot of Training Hours vs. Target"
   ]
  },
  {
   "cell_type": "code",
   "execution_count": 12,
   "metadata": {
    "colab": {
     "base_uri": "https://localhost:8080/",
     "height": 299
    },
    "id": "-A7Tc7J8b8bQ",
    "outputId": "14f38784-2371-437e-f208-6ea40a58bf8d"
   },
   "outputs": [
    {
     "data": {
      "text/plain": [
       "<AxesSubplot:xlabel='target', ylabel='training_hours'>"
      ]
     },
     "execution_count": 12,
     "metadata": {},
     "output_type": "execute_result"
    },
    {
     "data": {
      "image/png": "[encoded data removed]",
      "text/plain": [
       "<Figure size 432x288 with 1 Axes>"
      ]
     },
     "metadata": {
      "needs_background": "light"
     },
     "output_type": "display_data"
    }
   ],
   "source": [
    "sn.boxplot(data=df,y='training_hours',x='target')"
   ]
  },
  {
   "cell_type": "markdown",
   "metadata": {
    "id": "O1DRulHOz3ut"
   },
   "source": [
    "## 3.11) Results"
   ]
  },
  {
   "cell_type": "markdown",
   "metadata": {
    "id": "NC9k0Ty-z7VQ"
   },
   "source": [
    "### As we can see, the dataset is imbalanced"
   ]
  },
  {
   "cell_type": "code",
   "execution_count": 13,
   "metadata": {
    "id": "0APB4q2B0AeZ"
   },
   "outputs": [],
   "source": [
    "df_target1 = df[df.target==1]\n",
    "df_target0 = df[df.target==0]"
   ]
  },
  {
   "cell_type": "code",
   "execution_count": 14,
   "metadata": {
    "colab": {
     "base_uri": "https://localhost:8080/"
    },
    "id": "idEVfWps0dEE",
    "outputId": "a925522c-eba2-467e-8d5d-4880ff22c9c0",
    "scrolled": true
   },
   "outputs": [
    {
     "name": "stdout",
     "output_type": "stream",
     "text": [
      "4777 14381\n"
     ]
    }
   ],
   "source": [
    "print(len(df_target1),len(df_target0))"
   ]
  },
  {
   "cell_type": "markdown",
   "metadata": {
    "id": "-fp7mFtVz8Qi"
   },
   "source": [
    "# 4) Data Exploration and Preprocessing"
   ]
  },
  {
   "cell_type": "code",
   "execution_count": 15,
   "metadata": {
    "colab": {
     "base_uri": "https://localhost:8080/"
    },
    "id": "TVToK6lFz7ym",
    "outputId": "86619c3c-753f-4263-ebce-5c7703657ca9"
   },
   "outputs": [
    {
     "data": {
      "text/plain": [
       "(19158, 13)"
      ]
     },
     "execution_count": 15,
     "metadata": {},
     "output_type": "execute_result"
    }
   ],
   "source": [
    "df.shape"
   ]
  },
  {
   "cell_type": "code",
   "execution_count": 16,
   "metadata": {
    "colab": {
     "base_uri": "https://localhost:8080/"
    },
    "id": "au_NWdJU0BHG",
    "outputId": "c05da6f5-c679-44aa-975d-83393916cbcb"
   },
   "outputs": [
    {
     "data": {
      "text/plain": [
       "Unnamed: 0             19158\n",
       "city                     123\n",
       "gender                     3\n",
       "relevent_experience        2\n",
       "enrolled_university        3\n",
       "education_level            5\n",
       "major_discipline           6\n",
       "experience                22\n",
       "company_size               8\n",
       "company_type               6\n",
       "last_new_job               6\n",
       "training_hours           241\n",
       "target                     2\n",
       "dtype: int64"
      ]
     },
     "execution_count": 16,
     "metadata": {},
     "output_type": "execute_result"
    }
   ],
   "source": [
    "df.nunique()"
   ]
  },
  {
   "cell_type": "markdown",
   "metadata": {
    "id": "EoySIu1k0WCL"
   },
   "source": [
    "## Using Label Encoder to Convert Categorical Variables to Numeric"
   ]
  },
  {
   "cell_type": "code",
   "execution_count": 17,
   "metadata": {
    "id": "C9RViYEw0DZ7"
   },
   "outputs": [],
   "source": [
    "LE = LabelEncoder()"
   ]
  },
  {
   "cell_type": "code",
   "execution_count": 18,
   "metadata": {
    "colab": {
     "base_uri": "https://localhost:8080/",
     "height": 206
    },
    "id": "9C-98CYP0sQu",
    "outputId": "4f5d41d3-33de-4a54-eba6-9856d706eab7"
   },
   "outputs": [
    {
     "data": {
      "text/html": [
       "<div>\n",
       "<style scoped>\n",
       "    .dataframe tbody tr th:only-of-type {\n",
       "        vertical-align: middle;\n",
       "    }\n",
       "\n",
       "    .dataframe tbody tr th {\n",
       "        vertical-align: top;\n",
       "    }\n",
       "\n",
       "    .dataframe thead th {\n",
       "        text-align: right;\n",
       "    }\n",
       "</style>\n",
       "<table border=\"1\" class=\"dataframe\">\n",
       "  <thead>\n",
       "    <tr style=\"text-align: right;\">\n",
       "      <th></th>\n",
       "      <th>Unnamed: 0</th>\n",
       "      <th>city</th>\n",
       "      <th>gender</th>\n",
       "      <th>relevent_experience</th>\n",
       "      <th>enrolled_university</th>\n",
       "      <th>education_level</th>\n",
       "      <th>major_discipline</th>\n",
       "      <th>experience</th>\n",
       "      <th>company_size</th>\n",
       "      <th>company_type</th>\n",
       "      <th>last_new_job</th>\n",
       "      <th>training_hours</th>\n",
       "      <th>target</th>\n",
       "    </tr>\n",
       "  </thead>\n",
       "  <tbody>\n",
       "    <tr>\n",
       "      <th>0</th>\n",
       "      <td>0</td>\n",
       "      <td>5</td>\n",
       "      <td>1</td>\n",
       "      <td>0</td>\n",
       "      <td>2</td>\n",
       "      <td>0</td>\n",
       "      <td>5</td>\n",
       "      <td>21</td>\n",
       "      <td>2</td>\n",
       "      <td>5</td>\n",
       "      <td>1</td>\n",
       "      <td>36</td>\n",
       "      <td>1.0</td>\n",
       "    </tr>\n",
       "    <tr>\n",
       "      <th>1</th>\n",
       "      <td>1</td>\n",
       "      <td>77</td>\n",
       "      <td>1</td>\n",
       "      <td>1</td>\n",
       "      <td>2</td>\n",
       "      <td>0</td>\n",
       "      <td>5</td>\n",
       "      <td>15</td>\n",
       "      <td>2</td>\n",
       "      <td>5</td>\n",
       "      <td>5</td>\n",
       "      <td>47</td>\n",
       "      <td>0.0</td>\n",
       "    </tr>\n",
       "    <tr>\n",
       "      <th>2</th>\n",
       "      <td>2</td>\n",
       "      <td>64</td>\n",
       "      <td>1</td>\n",
       "      <td>1</td>\n",
       "      <td>0</td>\n",
       "      <td>0</td>\n",
       "      <td>5</td>\n",
       "      <td>5</td>\n",
       "      <td>2</td>\n",
       "      <td>5</td>\n",
       "      <td>0</td>\n",
       "      <td>83</td>\n",
       "      <td>0.0</td>\n",
       "    </tr>\n",
       "    <tr>\n",
       "      <th>3</th>\n",
       "      <td>3</td>\n",
       "      <td>14</td>\n",
       "      <td>1</td>\n",
       "      <td>1</td>\n",
       "      <td>2</td>\n",
       "      <td>0</td>\n",
       "      <td>1</td>\n",
       "      <td>0</td>\n",
       "      <td>2</td>\n",
       "      <td>5</td>\n",
       "      <td>0</td>\n",
       "      <td>52</td>\n",
       "      <td>1.0</td>\n",
       "    </tr>\n",
       "    <tr>\n",
       "      <th>4</th>\n",
       "      <td>4</td>\n",
       "      <td>50</td>\n",
       "      <td>1</td>\n",
       "      <td>0</td>\n",
       "      <td>2</td>\n",
       "      <td>2</td>\n",
       "      <td>5</td>\n",
       "      <td>21</td>\n",
       "      <td>2</td>\n",
       "      <td>1</td>\n",
       "      <td>4</td>\n",
       "      <td>8</td>\n",
       "      <td>0.0</td>\n",
       "    </tr>\n",
       "  </tbody>\n",
       "</table>\n",
       "</div>"
      ],
      "text/plain": [
       "   Unnamed: 0  city  gender  relevent_experience  enrolled_university  \\\n",
       "0           0     5       1                    0                    2   \n",
       "1           1    77       1                    1                    2   \n",
       "2           2    64       1                    1                    0   \n",
       "3           3    14       1                    1                    2   \n",
       "4           4    50       1                    0                    2   \n",
       "\n",
       "   education_level  major_discipline  experience  company_size  company_type  \\\n",
       "0                0                 5          21             2             5   \n",
       "1                0                 5          15             2             5   \n",
       "2                0                 5           5             2             5   \n",
       "3                0                 1           0             2             5   \n",
       "4                2                 5          21             2             1   \n",
       "\n",
       "   last_new_job  training_hours  target  \n",
       "0             1              36     1.0  \n",
       "1             5              47     0.0  \n",
       "2             0              83     0.0  \n",
       "3             0              52     1.0  \n",
       "4             4               8     0.0  "
      ]
     },
     "execution_count": 18,
     "metadata": {},
     "output_type": "execute_result"
    }
   ],
   "source": [
    "cols = df.select_dtypes(include=['object']).columns\n",
    "df[cols]=df[cols].apply(LE.fit_transform)\n",
    "df.head()"
   ]
  },
  {
   "cell_type": "markdown",
   "metadata": {
    "id": "fYdZgH1F01fV"
   },
   "source": [
    "# 5) Heatmap to get Correlation of each attribute with target "
   ]
  },
  {
   "cell_type": "code",
   "execution_count": 19,
   "metadata": {
    "colab": {
     "base_uri": "https://localhost:8080/",
     "height": 704
    },
    "id": "YUs-NSIx0uHY",
    "outputId": "10f03e41-cb2c-42af-b871-627167791076"
   },
   "outputs": [
    {
     "data": {
      "text/plain": [
       "<AxesSubplot:>"
      ]
     },
     "execution_count": 19,
     "metadata": {},
     "output_type": "execute_result"
    },
    {
     "data": {
      "image/png": "[encoded data removed]",
      "text/plain": [
       "<Figure size 1800x720 with 2 Axes>"
      ]
     },
     "metadata": {
      "needs_background": "light"
     },
     "output_type": "display_data"
    }
   ],
   "source": [
    "corr = df.corr()\n",
    "plt.figure(figsize=(25,10))\n",
    "sn.heatmap(corr,annot=True,fmt='.2')"
   ]
  },
  {
   "cell_type": "markdown",
   "metadata": {
    "id": "qnmN-5w43sQR"
   },
   "source": [
    "## Results <br>\n",
    "As we can see, the five attributes with the highest correlation are:<br>\n",
    "1) Experience<br>\n",
    "2) Enrolled University<br>\n",
    "3) Relevant Experience<br>\n",
    "4) Company Size<br>\n",
    "5) Last New Job<br>\n",
    " <br>\n"
   ]
  },
  {
   "cell_type": "markdown",
   "metadata": {
    "id": "dFyDAelL9Tse"
   },
   "source": [
    "# 6) Handling Imbalance using SMOTE"
   ]
  },
  {
   "cell_type": "markdown",
   "metadata": {
    "id": "Ws_eV8lb9UbU"
   },
   "source": [
    "SMOTE stands for Synthetic Minority Oversampling Technique<br>\n",
    "ENN stands for Edited Nearest Neighbors<br>\n",
    "df_target1 is the minority class<br>\n",
    "We need to balance by upsampling number of values"
   ]
  },
  {
   "cell_type": "code",
   "execution_count": 20,
   "metadata": {
    "id": "xgfOY0zH9Uvt"
   },
   "outputs": [],
   "source": [
    "smote = SMOTE(random_state=42)"
   ]
  },
  {
   "cell_type": "code",
   "execution_count": 21,
   "metadata": {
    "colab": {
     "base_uri": "https://localhost:8080/",
     "height": 206
    },
    "id": "QYJF4A2v9btY",
    "outputId": "beab1c0e-798c-4eb0-d99b-a7e0ac91a08f"
   },
   "outputs": [
    {
     "data": {
      "text/html": [
       "<div>\n",
       "<style scoped>\n",
       "    .dataframe tbody tr th:only-of-type {\n",
       "        vertical-align: middle;\n",
       "    }\n",
       "\n",
       "    .dataframe tbody tr th {\n",
       "        vertical-align: top;\n",
       "    }\n",
       "\n",
       "    .dataframe thead th {\n",
       "        text-align: right;\n",
       "    }\n",
       "</style>\n",
       "<table border=\"1\" class=\"dataframe\">\n",
       "  <thead>\n",
       "    <tr style=\"text-align: right;\">\n",
       "      <th></th>\n",
       "      <th>experience</th>\n",
       "      <th>enrolled_university</th>\n",
       "      <th>relevent_experience</th>\n",
       "      <th>company_size</th>\n",
       "      <th>last_new_job</th>\n",
       "    </tr>\n",
       "  </thead>\n",
       "  <tbody>\n",
       "    <tr>\n",
       "      <th>0</th>\n",
       "      <td>21</td>\n",
       "      <td>2</td>\n",
       "      <td>0</td>\n",
       "      <td>2</td>\n",
       "      <td>1</td>\n",
       "    </tr>\n",
       "    <tr>\n",
       "      <th>1</th>\n",
       "      <td>15</td>\n",
       "      <td>2</td>\n",
       "      <td>1</td>\n",
       "      <td>2</td>\n",
       "      <td>5</td>\n",
       "    </tr>\n",
       "    <tr>\n",
       "      <th>2</th>\n",
       "      <td>5</td>\n",
       "      <td>0</td>\n",
       "      <td>1</td>\n",
       "      <td>2</td>\n",
       "      <td>0</td>\n",
       "    </tr>\n",
       "    <tr>\n",
       "      <th>3</th>\n",
       "      <td>0</td>\n",
       "      <td>2</td>\n",
       "      <td>1</td>\n",
       "      <td>2</td>\n",
       "      <td>0</td>\n",
       "    </tr>\n",
       "    <tr>\n",
       "      <th>4</th>\n",
       "      <td>21</td>\n",
       "      <td>2</td>\n",
       "      <td>0</td>\n",
       "      <td>2</td>\n",
       "      <td>4</td>\n",
       "    </tr>\n",
       "  </tbody>\n",
       "</table>\n",
       "</div>"
      ],
      "text/plain": [
       "   experience  enrolled_university  relevent_experience  company_size  \\\n",
       "0          21                    2                    0             2   \n",
       "1          15                    2                    1             2   \n",
       "2           5                    0                    1             2   \n",
       "3           0                    2                    1             2   \n",
       "4          21                    2                    0             2   \n",
       "\n",
       "   last_new_job  \n",
       "0             1  \n",
       "1             5  \n",
       "2             0  \n",
       "3             0  \n",
       "4             4  "
      ]
     },
     "execution_count": 21,
     "metadata": {},
     "output_type": "execute_result"
    }
   ],
   "source": [
    "inputs = df[['experience','enrolled_university','relevent_experience','company_size','last_new_job']]\n",
    "target = df['target']\n",
    "\n",
    "inputs.head()"
   ]
  },
  {
   "cell_type": "code",
   "execution_count": 22,
   "metadata": {
    "id": "APs9ovMT9cCK"
   },
   "outputs": [],
   "source": [
    "inputs, target = smote.fit_resample(inputs, target)"
   ]
  },
  {
   "cell_type": "code",
   "execution_count": 23,
   "metadata": {
    "colab": {
     "base_uri": "https://localhost:8080/"
    },
    "id": "jBvdAPRr9cRQ",
    "outputId": "aff03d46-87fe-4a7a-a5f8-40dde2c3e52c",
    "scrolled": true
   },
   "outputs": [
    {
     "data": {
      "text/plain": [
       "28762"
      ]
     },
     "execution_count": 23,
     "metadata": {},
     "output_type": "execute_result"
    }
   ],
   "source": [
    "len(inputs)"
   ]
  },
  {
   "cell_type": "code",
   "execution_count": 24,
   "metadata": {},
   "outputs": [
    {
     "data": {
      "text/plain": [
       "<AxesSubplot:xlabel='target', ylabel='count'>"
      ]
     },
     "execution_count": 24,
     "metadata": {},
     "output_type": "execute_result"
    },
    {
     "data": {
      "image/png": "[encoded data removed]",
      "text/plain": [
       "<Figure size 432x288 with 1 Axes>"
      ]
     },
     "metadata": {
      "needs_background": "light"
     },
     "output_type": "display_data"
    }
   ],
   "source": [
    "# Plot showing target has been balanced\n",
    "target_df = pd.DataFrame(target)\n",
    "sn.countplot(data = target_df, x = \"target\")"
   ]
  },
  {
   "cell_type": "markdown",
   "metadata": {
    "id": "VuwOjGkM5j28"
   },
   "source": [
    "# 7) Splitting Dataset into Training Set and Test Set "
   ]
  },
  {
   "cell_type": "code",
   "execution_count": 25,
   "metadata": {
    "id": "q0xLN_wQ55nY"
   },
   "outputs": [],
   "source": [
    "x_train, x_test, y_train, y_test = train_test_split(inputs, target, test_size=0.25, random_state=40)"
   ]
  },
  {
   "cell_type": "code",
   "execution_count": 26,
   "metadata": {
    "colab": {
     "base_uri": "https://localhost:8080/"
    },
    "id": "rWIHUdNF6ANZ",
    "outputId": "18987d07-9906-4e0c-8427-7f3155e8cede"
   },
   "outputs": [
    {
     "data": {
      "text/plain": [
       "21571"
      ]
     },
     "execution_count": 26,
     "metadata": {},
     "output_type": "execute_result"
    }
   ],
   "source": [
    "len(x_train)"
   ]
  },
  {
   "cell_type": "code",
   "execution_count": 27,
   "metadata": {
    "colab": {
     "base_uri": "https://localhost:8080/"
    },
    "id": "0QVfwjjg6BVr",
    "outputId": "d6373730-ffc5-4498-d47c-d78e8b88ed70"
   },
   "outputs": [
    {
     "data": {
      "text/plain": [
       "7191"
      ]
     },
     "execution_count": 27,
     "metadata": {},
     "output_type": "execute_result"
    }
   ],
   "source": [
    "len(x_test)"
   ]
  },
  {
   "cell_type": "markdown",
   "metadata": {
    "id": "oqCdfJTa6Hbu"
   },
   "source": [
    "# 8) Testing Models and Comparing Accuracy"
   ]
  },
  {
   "cell_type": "markdown",
   "metadata": {
    "id": "zk-enl7Y6MgV"
   },
   "source": [
    "# 8.1) Linear Regression"
   ]
  },
  {
   "cell_type": "code",
   "execution_count": 28,
   "metadata": {
    "colab": {
     "base_uri": "https://localhost:8080/"
    },
    "id": "3mgsGS5C6DvR",
    "outputId": "4a1ba5b7-6c21-442d-f8bc-506fa59788bb"
   },
   "outputs": [
    {
     "data": {
      "text/plain": [
       "LinearRegression()"
      ]
     },
     "execution_count": 28,
     "metadata": {},
     "output_type": "execute_result"
    }
   ],
   "source": [
    "LM = linear_model.LinearRegression()\n",
    "LM.fit(x_train, y_train)"
   ]
  },
  {
   "cell_type": "code",
   "execution_count": 29,
   "metadata": {
    "colab": {
     "base_uri": "https://localhost:8080/"
    },
    "id": "BKQt0GH96QfE",
    "outputId": "068210dd-e9f0-4c3d-f9e4-b9f2ee462dbf"
   },
   "outputs": [
    {
     "data": {
      "text/plain": [
       "array([-0.01307883, -0.06197378,  0.00747503, -0.01718079,  0.00390934])"
      ]
     },
     "execution_count": 29,
     "metadata": {},
     "output_type": "execute_result"
    }
   ],
   "source": [
    "LM.coef_"
   ]
  },
  {
   "cell_type": "code",
   "execution_count": 30,
   "metadata": {
    "colab": {
     "base_uri": "https://localhost:8080/"
    },
    "id": "hlGIXCPm6SJv",
    "outputId": "7f464a90-7518-4c59-e038-6cd08f2e4f7a"
   },
   "outputs": [
    {
     "data": {
      "text/plain": [
       "0.749379876776854"
      ]
     },
     "execution_count": 30,
     "metadata": {},
     "output_type": "execute_result"
    }
   ],
   "source": [
    "LM.intercept_"
   ]
  },
  {
   "cell_type": "code",
   "execution_count": 31,
   "metadata": {
    "colab": {
     "base_uri": "https://localhost:8080/"
    },
    "id": "zkFGv-yR6UuR",
    "outputId": "cf33367c-8134-47a6-a51b-0a4bde547450"
   },
   "outputs": [
    {
     "data": {
      "text/plain": [
       "0.05970189886407584"
      ]
     },
     "execution_count": 31,
     "metadata": {},
     "output_type": "execute_result"
    }
   ],
   "source": [
    "LM.score(x_test, y_test)"
   ]
  },
  {
   "cell_type": "markdown",
   "metadata": {
    "id": "d6CLVSUC6Y6V"
   },
   "source": [
    "# 8.2) Naive Bayes"
   ]
  },
  {
   "cell_type": "code",
   "execution_count": 32,
   "metadata": {
    "colab": {
     "base_uri": "https://localhost:8080/"
    },
    "id": "wz4iZgE-6Xr6",
    "outputId": "8a82cbb9-3984-45ad-aca8-5fb413144567"
   },
   "outputs": [
    {
     "data": {
      "text/plain": [
       "MultinomialNB()"
      ]
     },
     "execution_count": 32,
     "metadata": {},
     "output_type": "execute_result"
    }
   ],
   "source": [
    "GNB = GaussianNB()\n",
    "MNB = MultinomialNB()\n",
    "\n",
    "GNB.fit(x_train, y_train)\n",
    "MNB.fit(x_train, y_train)"
   ]
  },
  {
   "cell_type": "code",
   "execution_count": 33,
   "metadata": {
    "colab": {
     "base_uri": "https://localhost:8080/"
    },
    "id": "EAHWXLh36j6O",
    "outputId": "809030e3-7deb-4786-ce63-d3b06784970c"
   },
   "outputs": [
    {
     "data": {
      "text/plain": [
       "0.6065915727993325"
      ]
     },
     "execution_count": 33,
     "metadata": {},
     "output_type": "execute_result"
    }
   ],
   "source": [
    "GNB.score(x_test, y_test)"
   ]
  },
  {
   "cell_type": "code",
   "execution_count": 34,
   "metadata": {
    "colab": {
     "base_uri": "https://localhost:8080/"
    },
    "id": "1rewmxOJ6otG",
    "outputId": "6ad905c1-ae24-4a6f-e920-73492c7feb36"
   },
   "outputs": [
    {
     "data": {
      "text/plain": [
       "0.5790571547768043"
      ]
     },
     "execution_count": 34,
     "metadata": {},
     "output_type": "execute_result"
    }
   ],
   "source": [
    "MNB.score(x_test, y_test)"
   ]
  },
  {
   "cell_type": "markdown",
   "metadata": {
    "id": "Bb34-8iz6taT"
   },
   "source": [
    "# 8.3) Decision Tree"
   ]
  },
  {
   "cell_type": "code",
   "execution_count": 35,
   "metadata": {
    "colab": {
     "base_uri": "https://localhost:8080/"
    },
    "id": "KGNVOw3n6rJz",
    "outputId": "92b04197-eba1-4bcb-fc1e-effad8b417a8"
   },
   "outputs": [
    {
     "data": {
      "text/plain": [
       "DecisionTreeClassifier()"
      ]
     },
     "execution_count": 35,
     "metadata": {},
     "output_type": "execute_result"
    }
   ],
   "source": [
    "DT = tree.DecisionTreeClassifier()\n",
    "\n",
    "DT.fit(x_train, y_train)"
   ]
  },
  {
   "cell_type": "code",
   "execution_count": 36,
   "metadata": {
    "colab": {
     "base_uri": "https://localhost:8080/"
    },
    "id": "BIILSk2z62ON",
    "outputId": "80ee2255-10f5-4c07-edc6-5d695be0bd77"
   },
   "outputs": [
    {
     "data": {
      "text/plain": [
       "0.6672229175358086"
      ]
     },
     "execution_count": 36,
     "metadata": {},
     "output_type": "execute_result"
    }
   ],
   "source": [
    "DT.score(x_test, y_test)"
   ]
  },
  {
   "cell_type": "markdown",
   "metadata": {
    "id": "WXzQT6Wj65Cu"
   },
   "source": [
    "# 8.4) Support Vector Machine"
   ]
  },
  {
   "cell_type": "code",
   "execution_count": 37,
   "metadata": {
    "colab": {
     "base_uri": "https://localhost:8080/"
    },
    "id": "PI2fVFKl64EV",
    "outputId": "bb3c1200-2097-49b8-c660-956f5337b982"
   },
   "outputs": [
    {
     "data": {
      "text/plain": [
       "SVC()"
      ]
     },
     "execution_count": 37,
     "metadata": {},
     "output_type": "execute_result"
    }
   ],
   "source": [
    "sv = SVC()\n",
    "\n",
    "sv.fit(x_train, y_train)"
   ]
  },
  {
   "cell_type": "code",
   "execution_count": 38,
   "metadata": {
    "colab": {
     "base_uri": "https://localhost:8080/"
    },
    "id": "Mkgi2tPy7HAL",
    "outputId": "062f38ad-598d-4309-a6fe-85d747cb2ca6"
   },
   "outputs": [
    {
     "data": {
      "text/plain": [
       "0.6134056459463217"
      ]
     },
     "execution_count": 38,
     "metadata": {},
     "output_type": "execute_result"
    }
   ],
   "source": [
    "sv.score(x_test, y_test)"
   ]
  },
  {
   "cell_type": "markdown",
   "metadata": {
    "id": "xx2A-d2Q7Nkk"
   },
   "source": [
    "# 8.5) Random Forest Classifier"
   ]
  },
  {
   "cell_type": "code",
   "execution_count": 39,
   "metadata": {
    "colab": {
     "base_uri": "https://localhost:8080/"
    },
    "id": "3W77xVsQ7Kzw",
    "outputId": "dfec94fd-d5c7-45d5-d1aa-87c5dd6ce723"
   },
   "outputs": [
    {
     "data": {
      "text/plain": [
       "RandomForestClassifier()"
      ]
     },
     "execution_count": 39,
     "metadata": {},
     "output_type": "execute_result"
    }
   ],
   "source": [
    "RFC = RandomForestClassifier()\n",
    "\n",
    "RFC.fit(x_train, y_train)"
   ]
  },
  {
   "cell_type": "code",
   "execution_count": 40,
   "metadata": {
    "colab": {
     "base_uri": "https://localhost:8080/"
    },
    "id": "M2ErSUa87ReU",
    "outputId": "6075f876-e470-4ee8-d17a-c76cd5fa7276"
   },
   "outputs": [
    {
     "data": {
      "text/plain": [
       "0.6673619802530941"
      ]
     },
     "execution_count": 40,
     "metadata": {},
     "output_type": "execute_result"
    }
   ],
   "source": [
    "RFC.score(x_test, y_test)"
   ]
  },
  {
   "cell_type": "markdown",
   "metadata": {
    "id": "-x43jyE87Vh1"
   },
   "source": [
    "# 8.6) XGB Classifier"
   ]
  },
  {
   "cell_type": "code",
   "execution_count": 41,
   "metadata": {
    "colab": {
     "base_uri": "https://localhost:8080/"
    },
    "id": "FNiUWnv97Tcw",
    "outputId": "e4606b53-352c-46aa-f826-29ffe039b0f6"
   },
   "outputs": [
    {
     "data": {
      "text/plain": [
       "XGBClassifier(base_score=0.5, booster='gbtree', callbacks=None,\n",
       "              colsample_bylevel=1, colsample_bynode=1, colsample_bytree=1,\n",
       "              early_stopping_rounds=None, enable_categorical=False,\n",
       "              eval_metric=None, feature_types=None, gamma=0, gpu_id=-1,\n",
       "              grow_policy='depthwise', importance_type=None,\n",
       "              interaction_constraints='', learning_rate=0.300000012,\n",
       "              max_bin=256, max_cat_threshold=64, max_cat_to_onehot=4,\n",
       "              max_delta_step=0, max_depth=6, max_leaves=0, min_child_weight=1,\n",
       "              missing=nan, monotone_constraints='()', n_estimators=100,\n",
       "              n_jobs=0, num_parallel_tree=1, predictor='auto', random_state=0, ...)"
      ]
     },
     "execution_count": 41,
     "metadata": {},
     "output_type": "execute_result"
    }
   ],
   "source": [
    "xgc = XGBClassifier()\n",
    "xgc.fit(inputs, target)"
   ]
  },
  {
   "cell_type": "code",
   "execution_count": 42,
   "metadata": {
    "colab": {
     "base_uri": "https://localhost:8080/"
    },
    "id": "9PtUUpBS7Yp7",
    "outputId": "5ce17883-74a5-48cd-a5a3-3c66c45617bf"
   },
   "outputs": [
    {
     "data": {
      "text/plain": [
       "0.6953135864274788"
      ]
     },
     "execution_count": 42,
     "metadata": {},
     "output_type": "execute_result"
    }
   ],
   "source": [
    "xgc.score(x_test, y_test)"
   ]
  },
  {
   "cell_type": "markdown",
   "metadata": {
    "id": "BvXwabRG9ev0"
   },
   "source": [
    "# 8.7) Results<br>\n",
    "### We found that Random Forest Classifier give us the best results<br> <br>"
   ]
  },
  {
   "cell_type": "markdown",
   "metadata": {
    "id": "GxAanrA087Z1"
   },
   "source": [
    "# 9) Hyper Parameter Tuning using RandomSearchCV\n",
    "RandomSearchCV is a library function that is a member of sklearn's model_selection package. It randomly passes the set of hyperparameters and calculate the score and gives the best set of hyperparameters which gives the best score as an output "
   ]
  },
  {
   "cell_type": "code",
   "execution_count": 43,
   "metadata": {
    "id": "EK1iztL18woq"
   },
   "outputs": [],
   "source": [
    "rs = RandomizedSearchCV(RandomForestClassifier(),{\n",
    "    'max_depth':[2, 3, 5, 8],                                     # Defines the longest path allowed between root node and leaf node\n",
    "    'n_estimators':[100, 150, 200, 300],                          # Number of Trees\n",
    "    'max_samples':[0.1, 0.2, 0.3]                                 # Fraction of Original Dataset to be given to each tree\n",
    "    },\n",
    "      cv=5,\n",
    "      return_train_score=False,\n",
    "      n_iter=10\n",
    "    )"
   ]
  },
  {
   "cell_type": "code",
   "execution_count": 44,
   "metadata": {
    "colab": {
     "base_uri": "https://localhost:8080/"
    },
    "id": "KnzLWlKDECg0",
    "outputId": "27450f14-bc62-48f5-daac-2fa8fda66a8b"
   },
   "outputs": [
    {
     "data": {
      "text/plain": [
       "RandomizedSearchCV(cv=5, estimator=RandomForestClassifier(),\n",
       "                   param_distributions={'max_depth': [2, 3, 5, 8],\n",
       "                                        'max_samples': [0.1, 0.2, 0.3],\n",
       "                                        'n_estimators': [100, 150, 200, 300]})"
      ]
     },
     "execution_count": 44,
     "metadata": {},
     "output_type": "execute_result"
    }
   ],
   "source": [
    "rs.fit(inputs, target)"
   ]
  },
  {
   "cell_type": "code",
   "execution_count": 45,
   "metadata": {
    "colab": {
     "base_uri": "https://localhost:8080/",
     "height": 363
    },
    "id": "NqqGbmi6-u2b",
    "outputId": "57192f68-6462-4b08-bbda-5b40b0fb0824"
   },
   "outputs": [
    {
     "data": {
      "text/html": [
       "<div>\n",
       "<style scoped>\n",
       "    .dataframe tbody tr th:only-of-type {\n",
       "        vertical-align: middle;\n",
       "    }\n",
       "\n",
       "    .dataframe tbody tr th {\n",
       "        vertical-align: top;\n",
       "    }\n",
       "\n",
       "    .dataframe thead th {\n",
       "        text-align: right;\n",
       "    }\n",
       "</style>\n",
       "<table border=\"1\" class=\"dataframe\">\n",
       "  <thead>\n",
       "    <tr style=\"text-align: right;\">\n",
       "      <th></th>\n",
       "      <th>param_max_depth</th>\n",
       "      <th>param_n_estimators</th>\n",
       "      <th>param_max_samples</th>\n",
       "      <th>mean_test_score</th>\n",
       "    </tr>\n",
       "  </thead>\n",
       "  <tbody>\n",
       "    <tr>\n",
       "      <th>0</th>\n",
       "      <td>8</td>\n",
       "      <td>100</td>\n",
       "      <td>0.2</td>\n",
       "      <td>0.647835</td>\n",
       "    </tr>\n",
       "    <tr>\n",
       "      <th>1</th>\n",
       "      <td>5</td>\n",
       "      <td>300</td>\n",
       "      <td>0.2</td>\n",
       "      <td>0.624748</td>\n",
       "    </tr>\n",
       "    <tr>\n",
       "      <th>2</th>\n",
       "      <td>5</td>\n",
       "      <td>100</td>\n",
       "      <td>0.2</td>\n",
       "      <td>0.623149</td>\n",
       "    </tr>\n",
       "    <tr>\n",
       "      <th>3</th>\n",
       "      <td>5</td>\n",
       "      <td>200</td>\n",
       "      <td>0.3</td>\n",
       "      <td>0.624192</td>\n",
       "    </tr>\n",
       "    <tr>\n",
       "      <th>4</th>\n",
       "      <td>2</td>\n",
       "      <td>300</td>\n",
       "      <td>0.1</td>\n",
       "      <td>0.610702</td>\n",
       "    </tr>\n",
       "    <tr>\n",
       "      <th>5</th>\n",
       "      <td>5</td>\n",
       "      <td>150</td>\n",
       "      <td>0.1</td>\n",
       "      <td>0.625826</td>\n",
       "    </tr>\n",
       "    <tr>\n",
       "      <th>6</th>\n",
       "      <td>3</td>\n",
       "      <td>200</td>\n",
       "      <td>0.1</td>\n",
       "      <td>0.616230</td>\n",
       "    </tr>\n",
       "    <tr>\n",
       "      <th>7</th>\n",
       "      <td>5</td>\n",
       "      <td>200</td>\n",
       "      <td>0.2</td>\n",
       "      <td>0.624018</td>\n",
       "    </tr>\n",
       "    <tr>\n",
       "      <th>8</th>\n",
       "      <td>8</td>\n",
       "      <td>100</td>\n",
       "      <td>0.3</td>\n",
       "      <td>0.647834</td>\n",
       "    </tr>\n",
       "    <tr>\n",
       "      <th>9</th>\n",
       "      <td>8</td>\n",
       "      <td>300</td>\n",
       "      <td>0.1</td>\n",
       "      <td>0.644636</td>\n",
       "    </tr>\n",
       "  </tbody>\n",
       "</table>\n",
       "</div>"
      ],
      "text/plain": [
       "  param_max_depth param_n_estimators param_max_samples  mean_test_score\n",
       "0               8                100               0.2         0.647835\n",
       "1               5                300               0.2         0.624748\n",
       "2               5                100               0.2         0.623149\n",
       "3               5                200               0.3         0.624192\n",
       "4               2                300               0.1         0.610702\n",
       "5               5                150               0.1         0.625826\n",
       "6               3                200               0.1         0.616230\n",
       "7               5                200               0.2         0.624018\n",
       "8               8                100               0.3         0.647834\n",
       "9               8                300               0.1         0.644636"
      ]
     },
     "execution_count": 45,
     "metadata": {},
     "output_type": "execute_result"
    }
   ],
   "source": [
    "pd.DataFrame(rs.cv_results_)[['param_max_depth','param_n_estimators','param_max_samples','mean_test_score']]\n"
   ]
  },
  {
   "cell_type": "markdown",
   "metadata": {
    "id": "igLwJIA_V6xG"
   },
   "source": [
    "# 10) Final Model"
   ]
  },
  {
   "cell_type": "code",
   "execution_count": 46,
   "metadata": {
    "colab": {
     "base_uri": "https://localhost:8080/"
    },
    "id": "omXekuaQV8D2",
    "outputId": "4981b0b0-f01f-4020-ec1e-ac679a9513c2"
   },
   "outputs": [
    {
     "data": {
      "text/plain": [
       "RandomForestClassifier(max_depth=200, n_estimators=2000)"
      ]
     },
     "execution_count": 46,
     "metadata": {},
     "output_type": "execute_result"
    }
   ],
   "source": [
    "RFC = RandomForestClassifier(n_estimators=2000,max_depth=200)\n",
    "\n",
    "RFC.fit(x_train, y_train)"
   ]
  },
  {
   "cell_type": "code",
   "execution_count": 47,
   "metadata": {
    "colab": {
     "base_uri": "https://localhost:8080/"
    },
    "id": "5rCsnUOGWFcb",
    "outputId": "36159d9a-3a34-424b-b92e-637946254707"
   },
   "outputs": [
    {
     "data": {
      "text/plain": [
       "0.6677791684049507"
      ]
     },
     "execution_count": 47,
     "metadata": {},
     "output_type": "execute_result"
    }
   ],
   "source": [
    "RFC.score(x_test, y_test)"
   ]
  },
  {
   "cell_type": "markdown",
   "metadata": {
    "id": "71qQ68AvWzxp"
   },
   "source": [
    "# 11) Confusion Matrix"
   ]
  },
  {
   "cell_type": "code",
   "execution_count": 48,
   "metadata": {
    "id": "Ct50tiOlWHd2"
   },
   "outputs": [],
   "source": [
    "y_pred = RFC.predict(x_test)"
   ]
  },
  {
   "cell_type": "code",
   "execution_count": 49,
   "metadata": {
    "colab": {
     "base_uri": "https://localhost:8080/",
     "height": 351
    },
    "id": "wxzf3AUbWihH",
    "outputId": "0b288809-f795-4a53-a5c6-f79a2ce98ede"
   },
   "outputs": [
    {
     "data": {
      "text/plain": [
       "Text(42.0, 0.5, 'Actual')"
      ]
     },
     "execution_count": 49,
     "metadata": {},
     "output_type": "execute_result"
    },
    {
     "data": {
      "image/png": "[encoded data removed]",
      "text/plain": [
       "<Figure size 504x360 with 2 Axes>"
      ]
     },
     "metadata": {
      "needs_background": "light"
     },
     "output_type": "display_data"
    }
   ],
   "source": [
    "cm = confusion_matrix(y_test, y_pred)\n",
    "\n",
    "plt.figure(figsize=(7,5))\n",
    "sn.heatmap(cm, annot=True)\n",
    "plt.xlabel('Predicted')\n",
    "plt.ylabel(\"Actual\")"
   ]
  },
  {
   "cell_type": "markdown",
   "metadata": {
    "id": "tHBC_GaO74Bc"
   },
   "source": [
    "# 12) Classification Report"
   ]
  },
  {
   "cell_type": "code",
   "execution_count": 50,
   "metadata": {
    "colab": {
     "base_uri": "https://localhost:8080/"
    },
    "id": "PAjfLifAXP3q",
    "outputId": "b22b2640-5823-41d0-a37b-029ef7f22001"
   },
   "outputs": [
    {
     "name": "stdout",
     "output_type": "stream",
     "text": [
      "              precision    recall  f1-score   support\n",
      "\n",
      "         0.0       0.68      0.63      0.65      3545\n",
      "         1.0       0.66      0.71      0.68      3646\n",
      "\n",
      "    accuracy                           0.67      7191\n",
      "   macro avg       0.67      0.67      0.67      7191\n",
      "weighted avg       0.67      0.67      0.67      7191\n",
      "\n"
     ]
    }
   ],
   "source": [
    "print(classification_report(y_test, y_pred))"
   ]
  },
  {
   "cell_type": "markdown",
   "metadata": {
    "id": "he4HzYlPxrLm"
   },
   "source": [
    "# 14) Testing\n"
   ]
  },
  {
   "cell_type": "code",
   "execution_count": 51,
   "metadata": {
    "id": "u429SLdmzyIx"
   },
   "outputs": [],
   "source": [
    "from sklearn.cluster import KMeans"
   ]
  },
  {
   "cell_type": "code",
   "execution_count": 52,
   "metadata": {
    "id": "UlAVUPuRz2ur"
   },
   "outputs": [],
   "source": [
    "kmodel = KMeans(n_clusters=2)"
   ]
  },
  {
   "cell_type": "code",
   "execution_count": 53,
   "metadata": {
    "colab": {
     "base_uri": "https://localhost:8080/"
    },
    "id": "ZIr7SuVUz5ij",
    "outputId": "7b886511-0de8-4baf-d607-8cc02998e7b9"
   },
   "outputs": [
    {
     "data": {
      "text/plain": [
       "KMeans(n_clusters=2)"
      ]
     },
     "execution_count": 53,
     "metadata": {},
     "output_type": "execute_result"
    }
   ],
   "source": [
    "kmodel.fit(x_train, y_train)"
   ]
  },
  {
   "cell_type": "code",
   "execution_count": 54,
   "metadata": {
    "id": "unpRoJvtz9Pw"
   },
   "outputs": [],
   "source": [
    "y_pred_kmeans = kmodel.fit_predict(x_test)"
   ]
  },
  {
   "cell_type": "code",
   "execution_count": 55,
   "metadata": {
    "colab": {
     "base_uri": "https://localhost:8080/"
    },
    "id": "U9LQZrnh0G4p",
    "outputId": "75a179f7-5b82-451d-9418-5db118c9acf1"
   },
   "outputs": [
    {
     "name": "stdout",
     "output_type": "stream",
     "text": [
      "              precision    recall  f1-score   support\n",
      "\n",
      "         0.0       0.44      0.60      0.50      3545\n",
      "         1.0       0.39      0.25      0.30      3646\n",
      "\n",
      "    accuracy                           0.42      7191\n",
      "   macro avg       0.41      0.42      0.40      7191\n",
      "weighted avg       0.41      0.42      0.40      7191\n",
      "\n"
     ]
    }
   ],
   "source": [
    "print(classification_report(y_test, y_pred_kmeans))"
   ]
  },
  {
   "cell_type": "markdown",
   "metadata": {
    "id": "PCoGh3Jh24JY"
   },
   "source": [
    "Testing Spectral Clustering"
   ]
  },
  {
   "cell_type": "code",
   "execution_count": 56,
   "metadata": {
    "id": "e0FA3Clo0Jyr"
   },
   "outputs": [],
   "source": [
    "spec_model = SpectralClustering(n_clusters=2)"
   ]
  },
  {
   "cell_type": "code",
   "execution_count": 57,
   "metadata": {
    "id": "ht43HHs_0j8i"
   },
   "outputs": [],
   "source": [
    "y_pred_spec = spec_model.fit_predict(x_test)"
   ]
  },
  {
   "cell_type": "code",
   "execution_count": 58,
   "metadata": {
    "colab": {
     "base_uri": "https://localhost:8080/"
    },
    "id": "EMerFTOv0oSg",
    "outputId": "6829ba42-adb0-470a-fb97-8a984e10eb94"
   },
   "outputs": [
    {
     "name": "stdout",
     "output_type": "stream",
     "text": [
      "              precision    recall  f1-score   support\n",
      "\n",
      "         0.0       0.46      0.76      0.57      3545\n",
      "         1.0       0.38      0.15      0.21      3646\n",
      "\n",
      "    accuracy                           0.45      7191\n",
      "   macro avg       0.42      0.45      0.39      7191\n",
      "weighted avg       0.42      0.45      0.39      7191\n",
      "\n"
     ]
    }
   ],
   "source": [
    "print(classification_report(y_test, y_pred_spec))"
   ]
  },
  {
   "cell_type": "code",
   "execution_count": 59,
   "metadata": {
    "id": "0q4xM1s60qXY"
   },
   "outputs": [],
   "source": [
    "# creating pickle file for deployment\n",
    "file = open('pickled_RFC.pkl', 'wb')\n",
    "pickle.dump(RFC, file)"
   ]
  },
  {
   "cell_type": "code",
   "execution_count": 60,
   "metadata": {},
   "outputs": [
    {
     "data": {
      "text/plain": [
       "array([0.44175063, 0.09552659, 0.04124339, 0.24190553, 0.17957386])"
      ]
     },
     "execution_count": 60,
     "metadata": {},
     "output_type": "execute_result"
    }
   ],
   "source": [
    "# Feature importance to see most important feature in predicting target\n",
    "feat_imp = RFC.feature_importances_\n",
    "feat_imp"
   ]
  },
  {
   "cell_type": "code",
   "execution_count": 61,
   "metadata": {},
   "outputs": [
    {
     "data": {
      "text/plain": [
       "<AxesSubplot:>"
      ]
     },
     "execution_count": 61,
     "metadata": {},
     "output_type": "execute_result"
    },
    {
     "data": {
      "image/png": "[encoded data removed]",
      "text/plain": [
       "<Figure size 432x288 with 1 Axes>"
      ]
     },
     "metadata": {
      "needs_background": "light"
     },
     "output_type": "display_data"
    }
   ],
   "source": [
    "feat = pd.Series(feat_imp, x_train.columns).sort_values()\n",
    "feat.plot(kind='barh')"
   ]
  },
  {
   "cell_type": "code",
   "execution_count": 63,
   "metadata": {},
   "outputs": [
    {
     "name": "stdout",
     "output_type": "stream",
     "text": [
      "Requirement already satisfied: numpy in c:\\users\\vimah\\anaconda3\\lib\\site-packages (1.21.5)\n"
     ]
    }
   ],
   "source": [
    "!pip install numpy"
   ]
  },
  {
   "cell_type": "code",
   "execution_count": null,
   "metadata": {},
   "outputs": [],
   "source": []
  }
 ],
 "metadata": {
  "colab": {
   "collapsed_sections": [
    "j9896OcaayZi",
    "yNZmK62AbJAD",
    "WJSEpfsUbedi",
    "FcrUbkd5b5YM",
    "oqCdfJTa6Hbu",
    "BvXwabRG9ev0"
   ],
   "provenance": []
  },
  "kernelspec": {
   "display_name": "Python 3 (ipykernel)",
   "language": "python",
   "name": "python3"
  },
  "language_info": {
   "codemirror_mode": {
    "name": "ipython",
    "version": 3
   },
   "file_extension": ".py",
   "mimetype": "text/x-python",
   "name": "python",
   "nbconvert_exporter": "python",
   "pygments_lexer": "ipython3",
   "version": "3.10.7"
  }
 },
 "nbformat": 4,
 "nbformat_minor": 1
}
